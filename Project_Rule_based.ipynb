{
 "cells": [
  {
   "cell_type": "code",
   "execution_count": 1,
   "metadata": {},
   "outputs": [],
   "source": [
    "import numpy as np\n",
    "import scipy as sp\n",
    "import pandas as pd\n",
    "import matplotlib.pyplot as plt\n",
    "import seaborn as sns\n",
    "from sklearn.model_selection import train_test_split\n",
    "from sklearn.preprocessing import MinMaxScaler\n",
    "from sklearn.metrics import classification_report, confusion_matrix, accuracy_score, mean_squared_error, r2_score\n",
    "\n",
    "import wittgenstein as lw\n",
    "from sklearn.metrics import precision_score, recall_score"
   ]
  },
  {
   "cell_type": "code",
   "execution_count": 2,
   "metadata": {},
   "outputs": [],
   "source": [
    "fifa_data = pd.read_csv('./pre_processed_Outliers.csv')"
   ]
  },
  {
   "cell_type": "code",
   "execution_count": 3,
   "metadata": {},
   "outputs": [],
   "source": [
    "data_for_rules = fifa_data.head(400)"
   ]
  },
  {
   "cell_type": "code",
   "execution_count": 4,
   "metadata": {},
   "outputs": [],
   "source": [
    "Train, Test  = train_test_split(data_for_rules, test_size=.40,random_state=42)"
   ]
  },
  {
   "cell_type": "code",
   "execution_count": 5,
   "metadata": {},
   "outputs": [],
   "source": [
    "RuleBaseRipper = lw.RIPPER()"
   ]
  },
  {
   "cell_type": "code",
   "execution_count": 6,
   "metadata": {},
   "outputs": [],
   "source": [
    "def build_rule_based(pos):\n",
    "    RuleBaseRipper.fit(Train, class_feat='Position', pos_class=pos, random_state = 42)\n",
    "    print(RuleBaseRipper.ruleset_.out_pretty())\n",
    "    \n",
    "    X_test = Test.drop('Position', axis=1)\n",
    "    y_test = Test['Position']\n",
    "    \n",
    "    p_value= RuleBaseRipper.score(X_test, y_test, precision_score)\n",
    "    r_value = RuleBaseRipper.score(X_test, y_test, recall_score)\n",
    "    accuracy_value = (2*p_value*r_value)/(p_value+r_value)\n",
    "    print('Accuracy:', accuracy_value)"
   ]
  },
  {
   "cell_type": "markdown",
   "metadata": {},
   "source": [
    "## Rules for GoalKeeper"
   ]
  },
  {
   "cell_type": "code",
   "execution_count": 7,
   "metadata": {},
   "outputs": [
    {
     "name": "stdout",
     "output_type": "stream",
     "text": [
      "[[Frw=0.0-51.5]]\n",
      "None\n",
      "Accuracy: 1.0\n"
     ]
    }
   ],
   "source": [
    "build_rule_based(0)"
   ]
  },
  {
   "cell_type": "markdown",
   "metadata": {},
   "source": [
    "## Rules for Defenders"
   ]
  },
  {
   "cell_type": "code",
   "execution_count": 8,
   "metadata": {},
   "outputs": [
    {
     "name": "stdout",
     "output_type": "stream",
     "text": [
      "[[Finishing=20.0-47.0^Dribbling=30.0-69.0] V\n",
      "[Interceptions=74.0-79.0^Aggression=71.0-76.0] V\n",
      "[SlidingTackle=78.0-81.0] V\n",
      "[SlidingTackle=72.0-78.0] V\n",
      "[SlidingTackle=81.0-86.0] V\n",
      "[Def=79.86-82.0]]\n",
      "None\n",
      "Accuracy: 0.7755102040816326\n"
     ]
    }
   ],
   "source": [
    "build_rule_based(1)"
   ]
  },
  {
   "cell_type": "markdown",
   "metadata": {},
   "source": [
    "## Rules for Midfielders"
   ]
  },
  {
   "cell_type": "code",
   "execution_count": 9,
   "metadata": {},
   "outputs": [
    {
     "name": "stdout",
     "output_type": "stream",
     "text": [
      "[[Finishing=47.0-56.0^Positioning=24.0-63.0] V\n",
      "[Finishing=56.0-63.0^SlidingTackle=45.0-72.0] V\n",
      "[LongPassing=71.0-76.0^Frw=69.5-73.0] V\n",
      "[Stamina=91.0-93.0] V\n",
      "[LongPassing=80.0-89.0^Composure=73.0-76.0] V\n",
      "[Finishing=56.0-63.0^Volleys=57.0-65.0^Curve=69.0-75.0]]\n",
      "None\n",
      "Accuracy: 0.5217391304347826\n"
     ]
    }
   ],
   "source": [
    "build_rule_based(2)"
   ]
  },
  {
   "cell_type": "markdown",
   "metadata": {},
   "source": [
    "## Rules for Strikers"
   ]
  },
  {
   "cell_type": "code",
   "execution_count": 10,
   "metadata": {},
   "outputs": [
    {
     "name": "stdout",
     "output_type": "stream",
     "text": [
      "[[Positioning=79.0-83.0] V\n",
      "[Aggression=56.0-64.0^WeakFoot=4.0] V\n",
      "[SkillMoves=4.0^LongShots=70.0-75.0] V\n",
      "[SlidingTackle=18.0-24.0^WeakFoot=4.0] V\n",
      "[Frw=81.0-84.5] V\n",
      "[Volleys=73.0-78.0^Frw=76.5-79.0] V\n",
      "[Frw=79.0-81.0] V\n",
      "[Volleys=83.0-90.0]]\n",
      "None\n",
      "Accuracy: 0.8959999999999999\n"
     ]
    }
   ],
   "source": [
    "build_rule_based(3)"
   ]
  }
 ],
 "metadata": {
  "kernelspec": {
   "display_name": "Python 3",
   "language": "python",
   "name": "python3"
  },
  "language_info": {
   "codemirror_mode": {
    "name": "ipython",
    "version": 3
   },
   "file_extension": ".py",
   "mimetype": "text/x-python",
   "name": "python",
   "nbconvert_exporter": "python",
   "pygments_lexer": "ipython3",
   "version": "3.7.3"
  }
 },
 "nbformat": 4,
 "nbformat_minor": 2
}
